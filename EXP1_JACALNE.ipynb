{
 "cells": [
  {
   "cell_type": "markdown",
   "id": "a2a70216-9209-4999-8c13-0035c62f5979",
   "metadata": {},
   "source": [
    "JAMILA ROSE M. JACALNE\n",
    "### **EXPERIMENT 1**"
   ]
  },
  {
   "cell_type": "code",
   "execution_count": 8,
   "id": "ce1651f9-5a3f-4d30-811c-83cbdc0d5207",
   "metadata": {},
   "outputs": [
    {
     "data": {
      "text/plain": [
       "'aaijlm'"
      ]
     },
     "execution_count": 8,
     "metadata": {},
     "output_type": "execute_result"
    }
   ],
   "source": [
    "def x(alphabet_soup):\n",
    "    char = list(alphabet_soup)\n",
    "    char.sort()\n",
    "    alphabetical = ''.join(char)\n",
    "    return alphabetical\n",
    "alphabet_soup = \"jamila\"\n",
    "result = x(alphabet_soup)\n",
    "result"
   ]
  },
  {
   "cell_type": "code",
   "execution_count": 72,
   "id": "c22b1086-0b39-4cf3-8a9b-d0f292769642",
   "metadata": {},
   "outputs": [
    {
     "data": {
      "text/plain": [
       "'You make me :('"
      ]
     },
     "execution_count": 72,
     "metadata": {},
     "output_type": "execute_result"
    }
   ],
   "source": [
    "def emoticons(text):\n",
    "    text = text.replace(\"smile\", \":)\")\n",
    "    text = text.replace(\"grin\", \":D\")\n",
    "    text = text.replace(\"sad\", \":(\")\n",
    "    text = text.replace(\"mad\", \">:(\")\n",
    "    return text\n",
    "\n",
    "emotify = \"You make me sad\"\n",
    "result = emoticons(emotify)\n",
    "result\n"
   ]
  },
  {
   "cell_type": "code",
   "execution_count": 22,
   "id": "1ddb89cd-6287-40d7-8d70-82eac87a61c5",
   "metadata": {},
   "outputs": [
    {
     "name": "stdout",
     "output_type": "stream",
     "text": [
      "First: j\n",
      "Middle: ['a', 'm', 'i', 'l']\n",
      "Last: a\n"
     ]
    }
   ],
   "source": [
    "writeyourcodehere = [\"j\", \"a\", \"m\", \"i\", \"l\", \"a\"]\n",
    "\n",
    "first, *middle, last = writeyourcodehere\n",
    "\n",
    "print(\"First:\", first)\n",
    "print(\"Middle:\", middle)\n",
    "print(\"Last:\", last)\n"
   ]
  }
 ],
 "metadata": {
  "kernelspec": {
   "display_name": "Python 3 (ipykernel)",
   "language": "python",
   "name": "python3"
  },
  "language_info": {
   "codemirror_mode": {
    "name": "ipython",
    "version": 3
   },
   "file_extension": ".py",
   "mimetype": "text/x-python",
   "name": "python",
   "nbconvert_exporter": "python",
   "pygments_lexer": "ipython3",
   "version": "3.12.4"
  }
 },
 "nbformat": 4,
 "nbformat_minor": 5
}
